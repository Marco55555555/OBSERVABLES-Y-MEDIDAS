{
 "cells": [
  {
   "cell_type": "markdown",
   "id": "7f0c842c-2146-419c-a875-b4c3a6243f7e",
   "metadata": {},
   "source": [
    "## TEORÍA CUÁNTICA BÁSICA, OBSERVABLES Y MEDIDAS\n"
   ]
  },
  {
   "cell_type": "markdown",
   "id": "640b3e50-5a14-4cca-b633-7460f4fbe2d3",
   "metadata": {},
   "source": [
    "## Exercises "
   ]
  },
  {
   "cell_type": "markdown",
   "id": "8f067c22-0266-4b1b-9580-8547b5840bb3",
   "metadata": {},
   "source": [
    "## SIMULE EL PRIMER SISTEMA CUÁNTICO DESCRITO EN LA SECCIÓN 4.1."
   ]
  },
  {
   "cell_type": "markdown",
   "id": "3219022b-8c72-4029-84b4-01b3397c8852",
   "metadata": {},
   "source": [
    "### El sistema consiste en una partícula confinada a un conjunto discreto de posiciones en una línea. El simulador debe permitir especificar el número de posiciones y un vector ket de estado asignando las amplitudes.\n",
    "\n"
   ]
  },
  {
   "cell_type": "markdown",
   "id": "60e25fc5-bcae-4041-a261-5cfe43ce61b0",
   "metadata": {},
   "source": [
    "### 1. El sistema debe calcular la probabilidad de encontrarlo en una posición en particular.\n"
   ]
  },
  {
   "cell_type": "code",
   "execution_count": 43,
   "id": "8ffbb7ec-df84-48d3-acc8-43448210e353",
   "metadata": {},
   "outputs": [],
   "source": [
    "import numpy as np\n",
    "\n",
    "def proba(v, p):\n",
    "    t = v[p]\n",
    "    r = np.real(t)\n",
    "    i = np.imag(t)\n",
    "    normanum = (r ** 2) + (i ** 2)\n",
    "    l = 0\n",
    "    m = 0\n",
    "    while l < len(v):\n",
    "        t = v[l]\n",
    "        r = int(np.real(t))\n",
    "        i = int(np.imag(t))\n",
    "        m += (r ** 2) + (i ** 2)\n",
    "        l += 1\n",
    "    normaden = m\n",
    "    r = normanum / normaden\n",
    "    return r"
   ]
  },
  {
   "cell_type": "markdown",
   "id": "abf8e5b3-5080-445e-afdf-f760fd47f263",
   "metadata": {},
   "source": [
    "### Ejemplos"
   ]
  },
  {
   "cell_type": "code",
   "execution_count": 44,
   "id": "8c46c539-17ae-4302-80cd-ebe541beba39",
   "metadata": {},
   "outputs": [
    {
     "name": "stdout",
     "output_type": "stream",
     "text": [
      "Ejemplo 1\n",
      "La probabilida uno da:\n",
      "0.05263157894736842\n",
      "Ejemplo 2\n",
      "La probabilida dos da:\n",
      "0.5625\n"
     ]
    }
   ],
   "source": [
    "print (\"Ejemplo 1\")\n",
    "v1=np.array([-3-1j,-2j,-1j,2])\n",
    "p1=2\n",
    "one=proba(v1,p1)\n",
    "print(\"La probabilida uno da:\")\n",
    "print(one)\n",
    "\n",
    "print (\"Ejemplo 2\")\n",
    "v2=np.array([3+5j, 6+3j, 1+0j])\n",
    "p2 = 1\n",
    "two= proba(v2,p2)\n",
    "print(\"La probabilida dos da:\")\n",
    "print(two)"
   ]
  },
  {
   "cell_type": "markdown",
   "id": "0ed87ed2-fb4c-4157-826a-3762cedc08d3",
   "metadata": {},
   "source": [
    "### 2. El sistema si se le da otro vector Ket debe buscar la probabilidad de transitar del primer vector al segundo."
   ]
  },
  {
   "cell_type": "code",
   "execution_count": 45,
   "id": "a46ee820-ee04-4d04-a8e0-df0f7975f419",
   "metadata": {},
   "outputs": [],
   "source": [
    "def probabilidad(v1, v2):\n",
    "    v1n = v1 / np.linalg.norm(v1)**(1/2)\n",
    "    v2n = v2 / np.linalg.norm(v2)**(1/2)\n",
    "    r = np.transpose(np.conjugate(v2n))\n",
    "    o = np.dot(r, v1n)\n",
    "    p = np.real(o)\n",
    "    i = np.imag(o)\n",
    "    tra2 = norma(np.array([p, i]), 0)\n",
    "    return tra2\n",
    "\n",
    "def norma(v, p):\n",
    "    a = v[p]\n",
    "    num = np.linalg.norm(a)\n",
    "    return num ** 2\n"
   ]
  },
  {
   "cell_type": "markdown",
   "id": "bb601de0-eb1b-4a86-9121-a23b3e710d02",
   "metadata": {},
   "source": [
    "### Ejemplos"
   ]
  },
  {
   "cell_type": "code",
   "execution_count": 46,
   "id": "f79fd297-c747-42e3-90c9-36ebaaa6567f",
   "metadata": {},
   "outputs": [
    {
     "name": "stdout",
     "output_type": "stream",
     "text": [
      "Ejemplo 1\n",
      "La probabilida uno da:\n",
      "0.7348469228349533\n",
      "Ejemplo 2\n",
      "La probabilida dos da:\n",
      "0.7348469228349533\n"
     ]
    }
   ],
   "source": [
    "print (\"Ejemplo 1\")\n",
    "v1 = np.array([3+5j, 6+3j, 1+0j])\n",
    "v2 =  np.array([2+1j, -3j, 4])\n",
    "tran1 = probabilidad(v1,v2)\n",
    "print(\"La probabilida uno da:\")\n",
    "print(tran1)\n",
    "\n",
    "print (\"Ejemplo 2\")\n",
    "v3 = np.array([2+1j, -3j, 4])\n",
    "v4 =  np.array([3+5j, 6+3j, 1+0j])\n",
    "tran2 = probabilidad(v3,v4)\n",
    "print(\"La probabilida dos da:\")\n",
    "print(tran2)\n"
   ]
  },
  {
   "cell_type": "markdown",
   "id": "b6f5b2b2-e4f1-413f-b2e4-36e57348bf46",
   "metadata": {},
   "source": [
    "## COMPLETE LOS RETOS DE PROGRAMACIÓN DEL CAPÍTULO 4."
   ]
  },
  {
   "cell_type": "markdown",
   "id": "bb59385d-de4a-4564-ac32-a6dbedcd4ac5",
   "metadata": {},
   "source": [
    "### El sistema consiste en una partícula confinada a un conjunto discreto de posiciones en una línea. El simulador debe permitir especificar el número de posiciones y un vector ket de estado asignando las amplitudes.\n",
    "\n"
   ]
  },
  {
   "cell_type": "markdown",
   "id": "58cf80e0-846e-4a8d-a2bd-a2ee0f59ba7b",
   "metadata": {},
   "source": [
    "### 1. Amplitud de transición. El sistema puede recibir dos vectores y calcular la probabilidad de transitar de el uno al otro después de hacer la observación"
   ]
  },
  {
   "cell_type": "code",
   "execution_count": 47,
   "id": "7dbdcfce-9e37-4b8a-a301-16e9550b699c",
   "metadata": {},
   "outputs": [],
   "source": [
    "def amplitud(v1, v2):\n",
    "    v1n = v1 / np.linalg.norm(v1)**(1/2)\n",
    "    v2n = v2 / np.linalg.norm(v2)**(1/2)\n",
    "    r = np.transpose(np.conjugate(v2n))\n",
    "    o = np.dot(r, v1n)\n",
    "    return o\n",
    "\n",
    "def probabilidadtrans(v1, v2):\n",
    "    x = np.array(v1)\n",
    "    vn = x / np.linalg.norm(x)\n",
    "    y = np.array(v2)\n",
    "    vn2 = y / np.linalg.norm(y)\n",
    "    r = np.transpose(np.conjugate(vn2))\n",
    "    o = np.dot(r, vn)\n",
    "    p = np.real(o)\n",
    "    i = np.imag(o)\n",
    "    normanum = (p ** 2) + (i ** 2)\n",
    "    return normanum"
   ]
  },
  {
   "cell_type": "markdown",
   "id": "76d96d7e-aa88-4b4c-8ead-ae9cc012b809",
   "metadata": {},
   "source": [
    "### Ejemplo"
   ]
  },
  {
   "cell_type": "code",
   "execution_count": 53,
   "id": "57644062-e2ba-494c-93af-212110aa46d5",
   "metadata": {},
   "outputs": [
    {
     "name": "stdout",
     "output_type": "stream",
     "text": [
      "La amplitu da: \n",
      "-1.0000000000000002j\n",
      "La probabilida da: \n",
      "1.0000000000000004\n"
     ]
    }
   ],
   "source": [
    "v1=np.sqrt(2)/2* np.transpose(np.array([1,1j]))\n",
    "v2=np.sqrt(2)/2* np.transpose(np.array([1j,-1]))\n",
    "rt=amplitud(v1,v2)\n",
    "print(\"La amplitu da: \")\n",
    "print(rt)\n",
    "tr = probabilidadtrans(v1,v2)\n",
    "print(\"La probabilida da: \")\n",
    "print (tr)"
   ]
  },
  {
   "cell_type": "markdown",
   "id": "ed768773-7893-42fb-b7cd-f44f30321310",
   "metadata": {},
   "source": [
    "### 2. Ahora con una matriz que describa un observable y un vector ket, el sistema revisa que la matriz sea hermitiana, y si lo es, calcula la media y la varianza del observable en el estado dado."
   ]
  },
  {
   "cell_type": "code",
   "execution_count": 49,
   "id": "296410cf-aadb-441e-a58e-dcedb207d86c",
   "metadata": {},
   "outputs": [],
   "source": [
    "def hervarmed(m, a):\n",
    "    ma = len(m)\n",
    "    na = (len(m[0]))\n",
    "    c = [[0 for i in range(len(m))] for j in range(len(m))]\n",
    "    for elemento in c:\n",
    "        for i in range(ma):\n",
    "            for j in range(na):\n",
    "                c[i][j] = np.conjugate(m[j][i])\n",
    "    if m == c:\n",
    "        media = np.real(np.dot(np.conjugate(np.transpose(a)), np.dot(m, a)))\n",
    "        varianza = np.real(np.dot(np.conjugate(np.transpose(a)), np.dot(np.dot(m, m), a)) - media ** 2)\n",
    "        return media, varianza\n",
    "    else:\n",
    "        return (\"Matriz no hermitiana\")"
   ]
  },
  {
   "cell_type": "markdown",
   "id": "92735f30-4ec8-4b20-a5bd-fc14fafa4009",
   "metadata": {},
   "source": [
    "### Ejemplo"
   ]
  },
  {
   "cell_type": "code",
   "execution_count": 50,
   "id": "1ccbad4c-48ca-4195-88cd-a8dce9d707ff",
   "metadata": {},
   "outputs": [
    {
     "name": "stdout",
     "output_type": "stream",
     "text": [
      "Ejemplo 1\n",
      "La media y la varianza para la materiz da:\n",
      "(2.0, 10.0)\n",
      "Ejemplo 2\n",
      "Matriz no hermitiana\n"
     ]
    }
   ],
   "source": [
    "v=hervarmed([[2, 1+3j],[1-3j, 4]], [1,0])\n",
    "print (\"Ejemplo 1\")\n",
    "\n",
    "if v != \"Matriz no hermitiana\" :\n",
    "    print (\"La media y la varianza para la materiz da:\")\n",
    "    print(v)\n",
    "else :\n",
    "    print (v)\n",
    "\n",
    "print (\"Ejemplo 2\")\n",
    "v1=hervarmed([[9, 0+8j],[1-3j, 4]], [0,1])\n",
    "if v1 != \"Matriz no hermitiana\" :\n",
    "    print (\"La media y la varianza para la materiz da:\")\n",
    "    print(v)\n",
    "else :\n",
    "    print(v1)"
   ]
  },
  {
   "cell_type": "code",
   "execution_count": 50,
   "id": "38267800-5f8b-4275-b2be-f34cbca64e8c",
   "metadata": {},
   "outputs": [
    {
     "name": "stdout",
     "output_type": "stream",
     "text": [
      "Ejemplo 1\n",
      "La media y la varianza para la materiz da:\n",
      "(2.0, 10.0)\n",
      "Ejemplo 2\n",
      "Matriz no hermitiana\n"
     ]
    }
   ],
   "source": [
    "v=hervarmed([[2, 1+3j],[1-3j, 4]], [1,0])\n",
    "print (\"Ejemplo 1\")\n",
    "\n",
    "if v != \"Matriz no hermitiana\" :\n",
    "    print (\"La media y la varianza para la materiz da:\")\n",
    "    print(v)\n",
    "else :\n",
    "    print (v)\n",
    "\n",
    "print (\"Ejemplo 2\")\n",
    "v1=hervarmed([[9, 0+8j],[1-3j, 4]], [0,1])\n",
    "if v1 != \"Matriz no hermitiana\" :\n",
    "    print (\"La media y la varianza para la materiz da:\")\n",
    "    print(v)\n",
    "else :\n",
    "    print(v1)"
   ]
  },
  {
   "cell_type": "markdown",
   "id": "71cbb1b7-5ece-47ba-a547-8d06e75a513f",
   "metadata": {},
   "source": [
    "### 3. El sistema calcula los valores propios del observable y la probabilidad de que el sistema transite a alguno de los vectores propios después de la observación."
   ]
  },
  {
   "cell_type": "code",
   "execution_count": 3,
   "id": "b4bc9cd2-856f-43b7-ba01-063bde3c3e7d",
   "metadata": {},
   "outputs": [],
   "source": [
    "import numpy as np\n",
    "def val_prob(observable, vector_ket):\n",
    "    if not es_hermitiana(observable):\n",
    "        return \"La matriz no es hermitiana\"\n",
    "    valores_propios, vectores_propios = np.linalg.eig(observable)\n",
    "    probabilidades_transicion = []\n",
    "    for vector_propio in vectores_propios.T:\n",
    "        prob_transicion = np.abs(np.vdot(vector_ket, vector_propio)) ** 2\n",
    "        probabilidades_transicion.append(prob_transicion)\n",
    "    \n",
    "    return valores_propios, probabilidades_transicion\n",
    "\n",
    "def es_hermitiana(matriz):\n",
    "    return np.allclose(matriz, matriz.T.conj())"
   ]
  },
  {
   "cell_type": "markdown",
   "id": "283348b9-78c5-48ff-9fc2-ff4bf351bab2",
   "metadata": {},
   "source": [
    "### Ejemplo"
   ]
  },
  {
   "cell_type": "code",
   "execution_count": 4,
   "id": "b0d08746-f332-47b8-9c78-ab0286979c47",
   "metadata": {},
   "outputs": [
    {
     "name": "stdout",
     "output_type": "stream",
     "text": [
      "Valores propios del observable: La matriz no es hermitiana\n"
     ]
    }
   ],
   "source": [
    "observable = np.array([[1j, 0, 0], [0, 2+1j, 0], [0, 0, 3]])\n",
    "vector_ket = np.array([1/np.sqrt(2) + 0j, 0, 1/np.sqrt(2) + 0j])\n",
    "\n",
    "valores_propios = val_prob(observable, vector_ket)\n",
    "print(\"Valores propios del observable:\", valores_propios)"
   ]
  },
  {
   "cell_type": "markdown",
   "id": "8775a598-6f18-4649-bf8f-7962e5ad4fb4",
   "metadata": {},
   "source": [
    "### REALICE LOS SIGUIENTES PROBLEMAS E INCLUYALOS COMO EJEMPLOS\n"
   ]
  },
  {
   "cell_type": "markdown",
   "id": "72866dfd-f6db-43b9-9fbf-01beec13d059",
   "metadata": {},
   "source": [
    "### Exercise 4.3.1\n"
   ]
  },
  {
   "cell_type": "code",
   "execution_count": 7,
   "id": "2cae7211-dded-49fa-9779-f6a47221cac0",
   "metadata": {},
   "outputs": [
    {
     "name": "stdout",
     "output_type": "stream",
     "text": [
      "Estado resultante después de aplicar Sx: [0.  0.5]\n",
      "Probabilidad de que el estado resultante sea 'spin up': 0.0\n"
     ]
    }
   ],
   "source": [
    "import numpy as np\n",
    "\n",
    "# Definir los operadores de espín Sx, Sy y Sz\n",
    "Sx = 0.5 * np.array([[0, 1], [1, 0]])\n",
    "Sy = 0.5 * np.array([[0, -1j], [1j, 0]])\n",
    "Sz = 0.5 * np.array([[1, 0], [0, -1]])\n",
    "\n",
    "# Estado inicial de \"spin up\" en la base de eigenestados de Sz\n",
    "initial_state = np.array([1, 0])\n",
    "\n",
    "# Aplicar Sx al estado inicial\n",
    "resultant_state = np.dot(Sx, initial_state)\n",
    "\n",
    "# Convertir el estado resultante a la base de eigenestados de Sz para ver si sigue siendo \"spin up\"\n",
    "resultant_state_in_Sz_basis = np.dot(np.conj(np.transpose(Sz)), resultant_state)\n",
    "\n",
    "# Calcular la probabilidad de que el estado resultante siga siendo \"spin up\"\n",
    "probability_spin_up = np.abs(resultant_state_in_Sz_basis[0])**2\n",
    "\n",
    "# Imprimir resultados\n",
    "print(\"Estado resultante después de aplicar Sx:\", resultant_state)\n",
    "print(\"Probabilidad de que el estado resultante sea 'spin up':\", probability_spin_up)\n"
   ]
  },
  {
   "cell_type": "markdown",
   "id": "6980a564-e2c7-418a-96cd-07905229c648",
   "metadata": {},
   "source": [
    "### Exercise 4.3.2\n"
   ]
  },
  {
   "cell_type": "code",
   "execution_count": 9,
   "id": "14c5a087-671a-490e-97da-1123e032393e",
   "metadata": {},
   "outputs": [
    {
     "data": {
      "image/png": "[encoded data removed]",
      "text/plain": [
       "<Figure size 640x480 with 1 Axes>"
      ]
     },
     "metadata": {},
     "output_type": "display_data"
    }
   ],
   "source": [
    "import numpy as np\n",
    "import matplotlib.pyplot as plt\n",
    "\n",
    "# Definir los operadores de espín Sx, Sy y Sz\n",
    "Sx = 0.5 * np.array([[0, 1], [1, 0]])\n",
    "Sy = 0.5 * np.array([[0, -1j], [1j, 0]])\n",
    "Sz = 0.5 * np.array([[1, 0], [0, -1]])\n",
    "\n",
    "# Estado inicial de \"spin up\" en la base de eigenestados de Sz\n",
    "initial_state = np.array([1, 0])\n",
    "\n",
    "# Aplicar Sx al estado inicial\n",
    "resultant_state = np.dot(Sx, initial_state)\n",
    "\n",
    "# Convertir el estado resultante a la base de eigenestados de Sz para ver si sigue siendo \"spin up\"\n",
    "resultant_state_in_Sz_basis = np.dot(np.conj(np.transpose(Sz)), resultant_state)\n",
    "\n",
    "# Calcular la probabilidad de que el estado resultante sea \"spin up\"\n",
    "probability_spin_up = np.abs(resultant_state_in_Sz_basis[0])**2\n",
    "\n",
    "# Calcular la probabilidad de que el estado resultante sea \"spin down\"\n",
    "probability_spin_down = np.abs(resultant_state_in_Sz_basis[1])**2\n",
    "\n",
    "# Dibujar la distribución de probabilidad de los autovalores\n",
    "eigenvalues = [-0.5, 0.5]  # Los autovalores de Sz son -1/2 y 1/2\n",
    "probabilities = [probability_spin_down, probability_spin_up]\n",
    "plt.bar(eigenvalues, probabilities, color=['blue', 'red'])\n",
    "plt.xlabel('Eigenvalues')\n",
    "plt.ylabel('Probability')\n",
    "plt.title('Probability Distribution of Eigenvalues')\n",
    "plt.xticks(eigenvalues)\n",
    "plt.show()\n"
   ]
  },
  {
   "cell_type": "markdown",
   "id": "394fb2e8-766f-42b6-9488-e19180860d64",
   "metadata": {},
   "source": [
    "### Exercise 4.4.1\n"
   ]
  },
  {
   "cell_type": "code",
   "execution_count": 5,
   "id": "620120db-2377-4c33-b11e-a1cf583375ae",
   "metadata": {},
   "outputs": [
    {
     "name": "stdout",
     "output_type": "stream",
     "text": [
      "¿U1 es unitaria? True\n",
      "¿El producto de U1 y U2 es unitario? True\n"
     ]
    }
   ],
   "source": [
    "import numpy as np\n",
    "\n",
    "# Definir las matrices dadas\n",
    "U1 = np.array([[0, 1], [1, 0]])\n",
    "U2 = np.array([[np.sqrt(2)/2, np.sqrt(2)/2], [np.sqrt(2)/2, -np.sqrt(2)/2]])\n",
    "\n",
    "# Verificar si U1 es unitaria\n",
    "identity = np.identity(U1.shape[0])  # Matriz identidad del mismo tamaño que U1\n",
    "unitary_check_U1 = np.allclose(np.dot(U1, U1.conj().T), identity)\n",
    "\n",
    "# Multiplicar las dos matrices\n",
    "P = np.dot(U1, U2)\n",
    "\n",
    "# Verificar si el producto es unitario\n",
    "unitary_check_P = np.allclose(np.dot(P, P.conj().T), identity)\n",
    "\n",
    "# Imprimir resultados\n",
    "print(\"¿U1 es unitaria?\", unitary_check_U1)\n",
    "print(\"¿El producto de U1 y U2 es unitario?\", unitary_check_P)\n"
   ]
  },
  {
   "cell_type": "markdown",
   "id": "c4334058-6b2d-413a-93a0-d896a3da89eb",
   "metadata": {},
   "source": [
    "### Exercise 4.4.2\n"
   ]
  },
  {
   "cell_type": "code",
   "execution_count": 6,
   "id": "669736b9-e623-4b38-900b-444d70ef068e",
   "metadata": {},
   "outputs": [
    {
     "name": "stdout",
     "output_type": "stream",
     "text": [
      "Estado después de tres pasos de tiempo: [0.         0.70710678 0.70710678 0.        ]\n",
      "Probabilidad de encontrar la pelota cuántica en la posición 3: 0.5000000000000002\n"
     ]
    }
   ],
   "source": [
    "import numpy as np\n",
    "\n",
    "# Definir la matriz unitaria dada\n",
    "A = np.array([[0, np.sqrt(1/2), np.sqrt(1/2), 0],\n",
    "              [np.sqrt(1/2), 0, 0, np.sqrt(1/2)],\n",
    "              [np.sqrt(1/2), 0, 0, -np.sqrt(1/2)],\n",
    "              [0, np.sqrt(1/2), -np.sqrt(1/2), 0]])\n",
    "\n",
    "# Definir el vector de estado inicial\n",
    "state = np.array([1, 0, 0, 0])\n",
    "\n",
    "# Multiplicar el vector de estado inicial con la matriz unitaria para obtener el estado después de un paso de tiempo\n",
    "state_after_one_step = np.dot(A, state)\n",
    "\n",
    "# Multiplicar el estado después de un paso de tiempo con la matriz unitaria para obtener el estado después de dos pasos de tiempo\n",
    "state_after_two_steps = np.dot(A, state_after_one_step)\n",
    "\n",
    "# Multiplicar el estado después de dos pasos de tiempo con la matriz unitaria para obtener el estado después de tres pasos de tiempo\n",
    "state_after_three_steps = np.dot(A, state_after_two_steps)\n",
    "\n",
    "# Calcular la probabilidad de encontrar la pelota cuántica en la posición 3\n",
    "probability_at_position_3 = np.abs(state_after_three_steps[2])**2\n",
    "\n",
    "# Imprimir resultados\n",
    "print(\"Estado después de tres pasos de tiempo:\", state_after_three_steps)\n",
    "print(\"Probabilidad de encontrar la pelota cuántica en la posición 3:\", probability_at_position_3)\n"
   ]
  },
  {
   "cell_type": "code",
   "execution_count": null,
   "id": "6bd18e94-4813-4736-aed7-8467c09c799c",
   "metadata": {},
   "outputs": [],
   "source": []
  },
  {
   "cell_type": "code",
   "execution_count": null,
   "id": "0f8c1f94-b5e6-4628-878f-9c8a04e63d36",
   "metadata": {},
   "outputs": [],
   "source": []
  }
 ],
 "metadata": {
  "kernelspec": {
   "display_name": "Python 3 (ipykernel)",
   "language": "python",
   "name": "python3"
  },
  "language_info": {
   "codemirror_mode": {
    "name": "ipython",
    "version": 3
   },
   "file_extension": ".py",
   "mimetype": "text/x-python",
   "name": "python",
   "nbconvert_exporter": "python",
   "pygments_lexer": "ipython3",
   "version": "3.11.5"
  }
 },
 "nbformat": 4,
 "nbformat_minor": 5
}
